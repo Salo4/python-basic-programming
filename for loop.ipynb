{
 "cells": [
  {
   "cell_type": "code",
   "execution_count": 6,
   "id": "b781ee6c-6a70-4765-a300-570bd36a76ac",
   "metadata": {},
   "outputs": [
    {
     "name": "stdout",
     "output_type": "stream",
     "text": [
      "2\n",
      "4\n",
      "6\n",
      "8\n"
     ]
    }
   ],
   "source": [
    "#finding even values in the list\n",
    "numbers= [1,2,3,4,5,6,7,8,9]\n",
    "for c in numbers:\n",
    "    if c%2==0:\n",
    "        print(c)\n",
    "    \n",
    "\n"
   ]
  },
  {
   "cell_type": "code",
   "execution_count": 11,
   "id": "e1e8cd9b-1e8a-48b0-9cbf-05bcaccf1832",
   "metadata": {},
   "outputs": [
    {
     "name": "stdout",
     "output_type": "stream",
     "text": [
      "index:0, fruite:mango\n",
      "index:1, fruite:pomegranet\n",
      "index:2, fruite:orange\n",
      "index:3, fruite:pineapple\n"
     ]
    }
   ],
   "source": [
    "fruits=[\"mango\", \"pomegranet\", \"orange\", \"pineapple\"]\n",
    "for index, f in enumerate(fruits):\n",
    "    print(f\"index:{index}, fruite:{f}\")\n",
    "    "
   ]
  },
  {
   "cell_type": "code",
   "execution_count": 21,
   "id": "e7ed695d-7f9e-4c98-ae2a-a32d1abe8d28",
   "metadata": {},
   "outputs": [
    {
     "name": "stdout",
     "output_type": "stream",
     "text": [
      "you have total 2\n"
     ]
    }
   ],
   "source": [
    "notes=[\"500 note\", \"1000 note\", \"500 note\", \"100 note\", \"50\", \"10\", \"20\"]\n",
    "total_notes_500=0\n",
    "total_10=0\n",
    "for i in notes:\n",
    "    for j in \n",
    "    if i==\"500 note\":\n",
    "        total_notes+=1\n",
    "print(\"you have total\", total_notes)"
   ]
  },
  {
   "cell_type": "code",
   "execution_count": 22,
   "id": "3613a1b6-9290-4bc1-b2bf-41382ef69528",
   "metadata": {},
   "outputs": [
    {
     "name": "stdout",
     "output_type": "stream",
     "text": [
      "Maximum value: 50\n"
     ]
    }
   ],
   "source": [
    "my_list = [10, 30, 20, 50, 40]\n",
    "max_value = my_list[0]\n",
    "for num in my_list:\n",
    "    if num > max_value:\n",
    "        max_value = num\n",
    "print(\"Maximum value:\", max_value)\n"
   ]
  },
  {
   "cell_type": "code",
   "execution_count": 23,
   "id": "ad8b5c3e-c23b-4d04-abff-6cb1b53acece",
   "metadata": {},
   "outputs": [
    {
     "name": "stdout",
     "output_type": "stream",
     "text": [
      "1\n",
      "3\n",
      "5\n",
      "7\n",
      "9\n"
     ]
    }
   ],
   "source": [
    "my_list = [1, 2, 3, 4, 5, 6, 7, 8, 9]\n",
    "for num in my_list:\n",
    "    if num % 2 == 0:\n",
    "        continue\n",
    "    print(num)\n"
   ]
  },
  {
   "cell_type": "code",
   "execution_count": 24,
   "id": "fe7bfc7d-4f84-48d3-8509-e366bcd80aec",
   "metadata": {},
   "outputs": [
    {
     "name": "stdout",
     "output_type": "stream",
     "text": [
      "Number found: 40\n"
     ]
    }
   ],
   "source": [
    "my_list = [10, 20, 30, 40, 50, 60]\n",
    "number_to_find = 40\n",
    "for num in my_list:\n",
    "    if num == number_to_find:\n",
    "        print(\"Number found:\", num)\n",
    "        break\n"
   ]
  },
  {
   "cell_type": "code",
   "execution_count": 25,
   "id": "47d37bd4-754b-4580-9f98-07aa537c5360",
   "metadata": {},
   "outputs": [
    {
     "name": "stdout",
     "output_type": "stream",
     "text": [
      "Found 5, stopping...\n"
     ]
    }
   ],
   "source": [
    "list_of_lists = [[1, 2, 3], [4, 5, 6], [7, 8, 9]]\n",
    "for sublist in list_of_lists:\n",
    "    for item in sublist:\n",
    "        if item == 5:\n",
    "            print(\"Found 5, stopping...\")\n",
    "            break\n",
    "    else:\n",
    "        continue  # This else belongs to the inner for loop\n",
    "    break  # This break exits the outer for loop when 5 is found\n"
   ]
  },
  {
   "cell_type": "code",
   "execution_count": null,
   "id": "d99535f8-967f-47ec-bbdb-817beb7652cf",
   "metadata": {},
   "outputs": [],
   "source": []
  }
 ],
 "metadata": {
  "kernelspec": {
   "display_name": "Python 3 (ipykernel)",
   "language": "python",
   "name": "python3"
  },
  "language_info": {
   "codemirror_mode": {
    "name": "ipython",
    "version": 3
   },
   "file_extension": ".py",
   "mimetype": "text/x-python",
   "name": "python",
   "nbconvert_exporter": "python",
   "pygments_lexer": "ipython3",
   "version": "3.11.7"
  }
 },
 "nbformat": 4,
 "nbformat_minor": 5
}
