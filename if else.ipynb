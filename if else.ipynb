{
 "cells": [
  {
   "cell_type": "code",
   "execution_count": 1,
   "id": "2f1d217f-99bb-425a-a97a-c902e9a01dde",
   "metadata": {},
   "outputs": [
    {
     "name": "stdin",
     "output_type": "stream",
     "text": [
      "Enter a number:  22\n"
     ]
    },
    {
     "name": "stdout",
     "output_type": "stream",
     "text": [
      "The number is even.\n"
     ]
    }
   ],
   "source": [
    "# check if a number is even or odd\n",
    "num = int(input(\"Enter a number: \")) # Taking input from user\n",
    "\n",
    "if num % 2 == 0: # Checking if the number is divisible by 2\n",
    "    print(\"The number is even.\")\n",
    "else:\n",
    "    print(\"The number is odd.\")\n"
   ]
  },
  {
   "cell_type": "code",
   "execution_count": null,
   "id": "88e112c1-dbe4-4076-9d3d-ff306b9ceb41",
   "metadata": {},
   "outputs": [],
   "source": []
  },
  {
   "cell_type": "code",
   "execution_count": 5,
   "id": "47cf949d-58f5-4f2f-a1aa-39ae5c5290fd",
   "metadata": {},
   "outputs": [
    {
     "name": "stdin",
     "output_type": "stream",
     "text": [
      "Enter a number:  3\n"
     ]
    },
    {
     "name": "stdout",
     "output_type": "stream",
     "text": [
      "The number is odd.\n"
     ]
    }
   ],
   "source": [
    "\n",
    "num = int(input(\"Enter a number: \")) # Taking input from user\n",
    "\n",
    "if num % num == 0 & num % 1 == 0: # Checking if the number is divisible by 2\n",
    "    print(\"The number is odd.\")\n",
    "else:\n",
    "    print(\"The number is even.\")\n"
   ]
  },
  {
   "cell_type": "code",
   "execution_count": 6,
   "id": "4ef215a1-8c3c-4da2-a08f-d0a979845417",
   "metadata": {},
   "outputs": [
    {
     "name": "stdin",
     "output_type": "stream",
     "text": [
      "Enter your marks:  50\n"
     ]
    },
    {
     "name": "stdout",
     "output_type": "stream",
     "text": [
      "Your grade is: F\n"
     ]
    }
   ],
   "source": [
    "# Program to determine grade based on marks\n",
    "marks = int(input(\"Enter your marks: \")) # Taking input from user\n",
    "\n",
    "if marks >= 90:\n",
    "    grade = \"A\"\n",
    "elif marks >= 80:\n",
    "    grade = \"B\"\n",
    "elif marks >= 70:\n",
    "    grade = \"C\"\n",
    "elif marks >= 60:\n",
    "    grade = \"D\"\n",
    "else:\n",
    "    grade = \"F\"\n",
    "\n",
    "print(\"Your grade is:\", grade)\n"
   ]
  },
  {
   "cell_type": "code",
   "execution_count": 7,
   "id": "e67bcce0-504d-4065-8d1c-4c06d93d2420",
   "metadata": {},
   "outputs": [
    {
     "name": "stdin",
     "output_type": "stream",
     "text": [
      "Enter a year:  4\n"
     ]
    },
    {
     "name": "stdout",
     "output_type": "stream",
     "text": [
      "Leap year\n"
     ]
    }
   ],
   "source": [
    "\n",
    "year = int(input(\"Enter a year: \")) # Taking input from user\n",
    "\n",
    "if (year % 4 == 0 and year % 100 != 0) or (year % 400 == 0):\n",
    "    print(\"Leap year\")\n",
    "else:\n",
    "    print(\"Not a leap year\")\n"
   ]
  },
  {
   "cell_type": "code",
   "execution_count": 8,
   "id": "8d3c02e6-00a1-46fd-94f5-cb3442702c04",
   "metadata": {},
   "outputs": [
    {
     "name": "stdin",
     "output_type": "stream",
     "text": [
      "Enter your weight in kilograms:  24\n",
      "Enter your height in meters:  5.5\n"
     ]
    },
    {
     "name": "stdout",
     "output_type": "stream",
     "text": [
      "Underweight\n"
     ]
    }
   ],
   "source": [
    "# calculate Body Mass Index (BMI)\n",
    "weight = float(input(\"Enter your weight in kilograms: \")) # Taking input from user\n",
    "height = float(input(\"Enter your height in meters: \")) # Taking input from user\n",
    "\n",
    "bmi = weight / (height ** 2) # BMI formula\n",
    "\n",
    "if bmi < 18.5:\n",
    "    print(\"Underweight\")\n",
    "elif bmi < 25:\n",
    "    print(\"Normal weight\")\n",
    "elif bmi < 30:\n",
    "    print(\"Overweight\")\n",
    "else:\n",
    "    print(\"Obesity\")\n"
   ]
  },
  {
   "cell_type": "code",
   "execution_count": 20,
   "id": "ea2f0be7-4ec2-4cc5-8a7a-e28e10ee8c72",
   "metadata": {},
   "outputs": [
    {
     "name": "stdin",
     "output_type": "stream",
     "text": [
      "Enter an integer value:  30\n"
     ]
    },
    {
     "name": "stdout",
     "output_type": "stream",
     "text": [
      "x is greater than 21 but not falling into the above conditions.\n"
     ]
    }
   ],
   "source": [
    "x = int(input(\"Enter an integer value: \"))\n",
    "\n",
    "if x > 21:\n",
    "    if x > 25 and x < 27:\n",
    "        print(\"x is greater than 25 but less than 27.\")\n",
    "    elif x > 30:\n",
    "        print(\"x is greater than 30.\")\n",
    "    else:\n",
    "        print(\"x is greater than 21 but not falling into the above conditions.\")\n",
    "elif x > 40:\n",
    "    print(\"x is greater than 40.\")\n",
    "else:\n",
    "    print(\"x is less than or equal to 21.\")\n"
   ]
  },
  {
   "cell_type": "code",
   "execution_count": null,
   "id": "5afea2c4-0141-40e6-8e8c-2a0b4f21747f",
   "metadata": {},
   "outputs": [],
   "source": []
  }
 ],
 "metadata": {
  "kernelspec": {
   "display_name": "Python 3 (ipykernel)",
   "language": "python",
   "name": "python3"
  },
  "language_info": {
   "codemirror_mode": {
    "name": "ipython",
    "version": 3
   },
   "file_extension": ".py",
   "mimetype": "text/x-python",
   "name": "python",
   "nbconvert_exporter": "python",
   "pygments_lexer": "ipython3",
   "version": "3.11.7"
  }
 },
 "nbformat": 4,
 "nbformat_minor": 5
}
